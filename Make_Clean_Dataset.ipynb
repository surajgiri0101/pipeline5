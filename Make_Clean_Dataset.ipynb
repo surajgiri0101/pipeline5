{
 "cells": [
  {
   "cell_type": "markdown",
   "metadata": {},
   "source": [
    "After initial EDA I figured out that the of the author provided \"Bird_Species.csv\" misses some classes and files, but the classes are present and there are also images for these classes. Therefore, I first created a new cleaned version of this csv file and use this one for my project. <br> <br>\n",
    "This step is not required, because I could simply use the \"flow_from_directory\" function from tensorflow. But I not just want to train the model blindly on a dataset without knowing the distributions! A good machine learning engineer should always be in full awarness about his dataset and the distributions."
   ]
  },
  {
   "cell_type": "markdown",
   "metadata": {},
   "source": [
    "# Data Import"
   ]
  },
  {
   "cell_type": "code",
   "execution_count": 1,
   "metadata": {},
   "outputs": [],
   "source": [
    "import sys\n",
    "import os\n",
    "import numpy as np\n",
    "import pandas as pd\n",
    "import csv\n",
    "import glob\n",
    "import seaborn as sns\n",
    "import matplotlib.pyplot as plt\n",
    "\n",
    "%matplotlib inline\n",
    "\n",
    "plt.rcParams['figure.figsize'] = [8,8]\n",
    "#sns.set_style(\"whitegrid\")"
   ]
  },
  {
   "cell_type": "code",
   "execution_count": 2,
   "metadata": {},
   "outputs": [
    {
     "data": {
      "text/html": [
       "<div>\n",
       "<style scoped>\n",
       "    .dataframe tbody tr th:only-of-type {\n",
       "        vertical-align: middle;\n",
       "    }\n",
       "\n",
       "    .dataframe tbody tr th {\n",
       "        vertical-align: top;\n",
       "    }\n",
       "\n",
       "    .dataframe thead th {\n",
       "        text-align: right;\n",
       "    }\n",
       "</style>\n",
       "<table border=\"1\" class=\"dataframe\">\n",
       "  <thead>\n",
       "    <tr style=\"text-align: right;\">\n",
       "      <th></th>\n",
       "      <th>class_index</th>\n",
       "      <th>class</th>\n",
       "      <th>height</th>\n",
       "      <th>width</th>\n",
       "      <th>scale by</th>\n",
       "    </tr>\n",
       "  </thead>\n",
       "  <tbody>\n",
       "    <tr>\n",
       "      <th>0</th>\n",
       "      <td>0</td>\n",
       "      <td>AFRICAN CROWNED CRANE</td>\n",
       "      <td>224</td>\n",
       "      <td>224</td>\n",
       "      <td>1</td>\n",
       "    </tr>\n",
       "    <tr>\n",
       "      <th>1</th>\n",
       "      <td>1</td>\n",
       "      <td>AFRICAN FIREFINCH</td>\n",
       "      <td>224</td>\n",
       "      <td>224</td>\n",
       "      <td>1</td>\n",
       "    </tr>\n",
       "    <tr>\n",
       "      <th>2</th>\n",
       "      <td>2</td>\n",
       "      <td>ALBATROSS</td>\n",
       "      <td>224</td>\n",
       "      <td>224</td>\n",
       "      <td>1</td>\n",
       "    </tr>\n",
       "    <tr>\n",
       "      <th>3</th>\n",
       "      <td>3</td>\n",
       "      <td>ALEXANDRINE PARAKEET</td>\n",
       "      <td>224</td>\n",
       "      <td>224</td>\n",
       "      <td>1</td>\n",
       "    </tr>\n",
       "    <tr>\n",
       "      <th>4</th>\n",
       "      <td>4</td>\n",
       "      <td>AMERICAN AVOCET</td>\n",
       "      <td>224</td>\n",
       "      <td>224</td>\n",
       "      <td>1</td>\n",
       "    </tr>\n",
       "  </tbody>\n",
       "</table>\n",
       "</div>"
      ],
      "text/plain": [
       "   class_index                  class  height  width  scale by\n",
       "0            0  AFRICAN CROWNED CRANE     224    224         1\n",
       "1            1      AFRICAN FIREFINCH     224    224         1\n",
       "2            2              ALBATROSS     224    224         1\n",
       "3            3   ALEXANDRINE PARAKEET     224    224         1\n",
       "4            4        AMERICAN AVOCET     224    224         1"
      ]
     },
     "execution_count": 2,
     "metadata": {},
     "output_type": "execute_result"
    }
   ],
   "source": [
    "# get dataframe with all classes\n",
    "df_classes = pd.read_csv(r\"data\\class_dict.csv\")\n",
    "df_classes.head()"
   ]
  },
  {
   "cell_type": "code",
   "execution_count": 3,
   "metadata": {},
   "outputs": [
    {
     "name": "stdout",
     "output_type": "stream",
     "text": [
      "There are 300 different classes in this dataset.\n"
     ]
    }
   ],
   "source": [
    "# check the number of classes -> should be 300\n",
    "print(f\"There are {df_classes.shape[0]} different classes in this dataset.\")"
   ]
  },
  {
   "cell_type": "code",
   "execution_count": 4,
   "metadata": {},
   "outputs": [
    {
     "data": {
      "text/html": [
       "<div>\n",
       "<style scoped>\n",
       "    .dataframe tbody tr th:only-of-type {\n",
       "        vertical-align: middle;\n",
       "    }\n",
       "\n",
       "    .dataframe tbody tr th {\n",
       "        vertical-align: top;\n",
       "    }\n",
       "\n",
       "    .dataframe thead th {\n",
       "        text-align: right;\n",
       "    }\n",
       "</style>\n",
       "<table border=\"1\" class=\"dataframe\">\n",
       "  <thead>\n",
       "    <tr style=\"text-align: right;\">\n",
       "      <th></th>\n",
       "      <th>filepaths</th>\n",
       "      <th>labels</th>\n",
       "      <th>data set</th>\n",
       "    </tr>\n",
       "  </thead>\n",
       "  <tbody>\n",
       "    <tr>\n",
       "      <th>0</th>\n",
       "      <td>train/AFRICAN CROWNED CRANE/001.jpg</td>\n",
       "      <td>AFRICAN CROWNED CRANE</td>\n",
       "      <td>train</td>\n",
       "    </tr>\n",
       "    <tr>\n",
       "      <th>1</th>\n",
       "      <td>train/AFRICAN CROWNED CRANE/002.jpg</td>\n",
       "      <td>AFRICAN CROWNED CRANE</td>\n",
       "      <td>train</td>\n",
       "    </tr>\n",
       "    <tr>\n",
       "      <th>2</th>\n",
       "      <td>train/AFRICAN CROWNED CRANE/003.jpg</td>\n",
       "      <td>AFRICAN CROWNED CRANE</td>\n",
       "      <td>train</td>\n",
       "    </tr>\n",
       "    <tr>\n",
       "      <th>3</th>\n",
       "      <td>train/AFRICAN CROWNED CRANE/004.jpg</td>\n",
       "      <td>AFRICAN CROWNED CRANE</td>\n",
       "      <td>train</td>\n",
       "    </tr>\n",
       "    <tr>\n",
       "      <th>4</th>\n",
       "      <td>train/AFRICAN CROWNED CRANE/005.jpg</td>\n",
       "      <td>AFRICAN CROWNED CRANE</td>\n",
       "      <td>train</td>\n",
       "    </tr>\n",
       "  </tbody>\n",
       "</table>\n",
       "</div>"
      ],
      "text/plain": [
       "                             filepaths                 labels data set\n",
       "0  train/AFRICAN CROWNED CRANE/001.jpg  AFRICAN CROWNED CRANE    train\n",
       "1  train/AFRICAN CROWNED CRANE/002.jpg  AFRICAN CROWNED CRANE    train\n",
       "2  train/AFRICAN CROWNED CRANE/003.jpg  AFRICAN CROWNED CRANE    train\n",
       "3  train/AFRICAN CROWNED CRANE/004.jpg  AFRICAN CROWNED CRANE    train\n",
       "4  train/AFRICAN CROWNED CRANE/005.jpg  AFRICAN CROWNED CRANE    train"
      ]
     },
     "execution_count": 4,
     "metadata": {},
     "output_type": "execute_result"
    }
   ],
   "source": [
    "# read in original dataset csv file to show that some classes are missing\n",
    "df = pd.read_csv(r\"data\\Bird_Species.csv\")\n",
    "df.head()"
   ]
  },
  {
   "cell_type": "code",
   "execution_count": 5,
   "metadata": {},
   "outputs": [
    {
     "name": "stdout",
     "output_type": "stream",
     "text": [
      "There are 285 unique class labels in the dataset.\n"
     ]
    }
   ],
   "source": [
    "num_unique_classes = df[\"labels\"].unique().shape[0]\n",
    "print(f\"There are {num_unique_classes} unique class labels in the dataset.\")"
   ]
  },
  {
   "cell_type": "markdown",
   "metadata": {},
   "source": [
    "As you can see: This dataset only contains 285 classes instead of 300, but in the directories there are 300 subdirectories with images in each of them. Therefore, let's create a new cleaned version of this dataset."
   ]
  },
  {
   "cell_type": "code",
   "execution_count": 6,
   "metadata": {},
   "outputs": [],
   "source": [
    "import glob\n",
    "def get_list_of_files(folder):\n",
    "    return glob.glob(os.path.join(folder, \"*.jpg\"))"
   ]
  },
  {
   "cell_type": "code",
   "execution_count": 11,
   "metadata": {},
   "outputs": [],
   "source": [
    "import csv\n",
    "\n",
    "foldernames = [\"train\", \"valid\", \"test\"]\n",
    "path_csv = r\"data\\Bird_Species_cleaned.csv\"\n",
    "columns = [\"filepaths\", \"labels\", \"data set\"]\n",
    "\n",
    "# write header\n",
    "with open(path_csv, \"w\", newline=\"\") as csv_file:\n",
    "    csv_writer = csv.writer(csv_file, quoting=csv.QUOTE_NONE)\n",
    "    csv_writer.writerow(columns)\n",
    "\n",
    "for foldername in foldernames:\n",
    "    # loop over all classes (subdirectories) and get all filenames located in the classes\n",
    "    for class_folder in df_classes[\"class\"]:\n",
    "        list_files = get_list_of_files(os.path.join(\"data\", foldername, class_folder))\n",
    "\n",
    "        with open(path_csv, \"a\", newline=\"\") as csv_file:\n",
    "            csv_writer = csv.writer(csv_file, quoting=csv.QUOTE_NONE)\n",
    "            for filepath in list_files:\n",
    "                # first: remove data from filepath\n",
    "                filepath = os.path.sep.join(filepath.split(os.path.sep)[1:])\n",
    "                csv_writer.writerow([filepath, class_folder, foldername])     "
   ]
  },
  {
   "cell_type": "code",
   "execution_count": null,
   "metadata": {},
   "outputs": [],
   "source": []
  }
 ],
 "metadata": {
  "kernelspec": {
   "display_name": "Python 3",
   "language": "python",
   "name": "python3"
  },
  "language_info": {
   "codemirror_mode": {
    "name": "ipython",
    "version": 3
   },
   "file_extension": ".py",
   "mimetype": "text/x-python",
   "name": "python",
   "nbconvert_exporter": "python",
   "pygments_lexer": "ipython3",
   "version": "3.9.6"
  }
 },
 "nbformat": 4,
 "nbformat_minor": 4
}
